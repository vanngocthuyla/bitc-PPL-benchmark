{
  "nbformat": 4,
  "nbformat_minor": 0,
  "metadata": {
    "colab": {
      "name": "bitc_pyro_5.ipynb",
      "provenance": [],
      "collapsed_sections": []
    },
    "kernelspec": {
      "display_name": "Python 3",
      "name": "python3"
    }
  },
  "cells": [
    {
      "cell_type": "code",
      "metadata": {
        "id": "HMDb43sytYnr"
      },
      "source": [
        "!pip install pyro-ppl\n",
        "!pip install arviz"
      ],
      "execution_count": null,
      "outputs": []
    },
    {
      "cell_type": "code",
      "metadata": {
        "id": "odPreOlvu9R-"
      },
      "source": [
        "import os\n",
        "import pickle\n",
        "\n",
        "import torch\n",
        "import pyro\n",
        "from pyro.infer import MCMC, NUTS\n",
        "import numpy as np\n",
        "import arviz as az\n",
        "\n",
        "pyro.set_rng_seed(0)"
      ],
      "execution_count": null,
      "outputs": []
    },
    {
      "cell_type": "code",
      "metadata": {
        "colab": {
          "base_uri": "https://localhost:8080/"
        },
        "id": "nMXIxub7vAIE",
        "outputId": "1aa59c2a-85a5-4f1e-f7c6-80ae68361954"
      },
      "source": [
        "from google.colab import drive\n",
        "drive.mount('/content/drive')"
      ],
      "execution_count": null,
      "outputs": [
        {
          "output_type": "stream",
          "text": [
            "Drive already mounted at /content/drive; to attempt to forcibly remount, call drive.mount(\"/content/drive\", force_remount=True).\n"
          ],
          "name": "stdout"
        }
      ]
    },
    {
      "cell_type": "code",
      "metadata": {
        "colab": {
          "base_uri": "https://localhost:8080/",
          "height": 35
        },
        "id": "A9fVXqMPbQyb",
        "outputId": "ad6b50e8-f0b9-4376-8d26-3f8d5ec33de2"
      },
      "source": [
        "pyro.__version__"
      ],
      "execution_count": null,
      "outputs": [
        {
          "output_type": "execute_result",
          "data": {
            "application/vnd.google.colaboratory.intrinsic+json": {
              "type": "string"
            },
            "text/plain": [
              "'1.5.1'"
            ]
          },
          "metadata": {
            "tags": []
          },
          "execution_count": 11
        }
      ]
    },
    {
      "cell_type": "code",
      "metadata": {
        "id": "FTEjdm3cvLl4"
      },
      "source": [
        "KB = 0.0019872041        # in kcal/mol/K\n",
        "INJ_VOL = 1.2e-5         # in liter\n",
        "CELL_CONCENTR = 0.1      # milli molar\n",
        "SYRINGE_CONCENTR = 1.0   # milli molar\n",
        "\n",
        "HEAT_FILE = \"inputs/Mg1EDTAp1a.DAT\"\n",
        "OUT_DIR = \"outputs\""
      ],
      "execution_count": null,
      "outputs": []
    },
    {
      "cell_type": "code",
      "metadata": {
        "id": "LDFa15FXvMPv"
      },
      "source": [
        "def load_heat_micro_cal(origin_heat_file):\n",
        "    \"\"\"\n",
        "    :param origin_heat_file: str, name of heat file\n",
        "    :return: tensor array, heats in micro calorie\n",
        "    \"\"\"\n",
        "\n",
        "    heats = []\n",
        "    with open(origin_heat_file) as handle:\n",
        "        handle.readline()\n",
        "        for line in handle:\n",
        "            if len(line.split()) == 6:\n",
        "                heats.append(np.float(line.split()[0]))\n",
        "\n",
        "    return torch.as_tensor(heats)"
      ],
      "execution_count": null,
      "outputs": []
    },
    {
      "cell_type": "code",
      "metadata": {
        "colab": {
          "base_uri": "https://localhost:8080/"
        },
        "id": "By3M9_vfvQYv",
        "outputId": "71ee6228-2407-4028-9b5b-79326fecaf01"
      },
      "source": [
        "q_actual_micro_cal = load_heat_micro_cal(HEAT_FILE)\n",
        "q_actual_cal = q_actual_micro_cal * 1e-6\n",
        "q_actual_cal"
      ],
      "execution_count": null,
      "outputs": [
        {
          "output_type": "execute_result",
          "data": {
            "text/plain": [
              "tensor([-2.7724e-05, -2.8997e-05, -2.8923e-05, -2.8842e-05, -2.8826e-05,\n",
              "        -2.8887e-05, -2.8008e-05, -2.7338e-05, -2.0651e-05, -9.1398e-06,\n",
              "        -3.7614e-06, -1.9439e-06, -1.6278e-06, -1.0458e-06, -1.0546e-06,\n",
              "        -1.0349e-06, -1.1301e-06, -1.0366e-06, -7.5452e-07, -9.0189e-07,\n",
              "        -9.9041e-07, -8.5171e-07, -9.3279e-07])"
            ]
          },
          "metadata": {
            "tags": []
          },
          "execution_count": 7
        }
      ]
    },
    {
      "cell_type": "code",
      "metadata": {
        "colab": {
          "base_uri": "https://localhost:8080/"
        },
        "id": "DpE6-1kgvSbU",
        "outputId": "5ea32db5-fdc1-431a-97fb-810e4469846e"
      },
      "source": [
        "n_injections = len(q_actual_cal)\n",
        "print(\"# injections:\", n_injections)\n",
        "injection_volumes = [INJ_VOL for _ in range(n_injections)]"
      ],
      "execution_count": null,
      "outputs": [
        {
          "output_type": "stream",
          "text": [
            "# injections: 23\n"
          ],
          "name": "stdout"
        }
      ]
    },
    {
      "cell_type": "code",
      "metadata": {
        "id": "jGaCUNuFvUj0"
      },
      "source": [
        "def heats_TwoComponentBindingModel(V0, DeltaVn, P0, Ls, DeltaG, DeltaH, DeltaH_0, beta, N):\n",
        "    \"\"\"\n",
        "    Expected heats of injection for two-component binding model.\n",
        "\n",
        "    ARGUMENTS\n",
        "    V0 - cell volume (liter)\n",
        "    DeltaVn - injection volumes (liter)\n",
        "    P0 - Cell concentration (millimolar)\n",
        "    Ls - Syringe concentration (millimolar)\n",
        "    DeltaG - free energy of binding (kcal/mol)\n",
        "    DeltaH - enthalpy of binding (kcal/mol)\n",
        "    DeltaH_0 - heat of injection (cal)\n",
        "    beta - inverse temperature * gas constant (mole / kcal)\n",
        "    N - number of injections\n",
        "\n",
        "    Returns\n",
        "    -------\n",
        "    expected injection heats (calorie)\n",
        "\n",
        "    \"\"\"\n",
        "    Kd = torch.exp(beta * DeltaG)   # dissociation constant (M)\n",
        "\n",
        "    # Compute complex concentrations.\n",
        "    # Pn[n] is the protein concentration in sample cell after n injections\n",
        "    # (M)\n",
        "    Pn = torch.zeros([N])\n",
        "    # Ln[n] is the ligand concentration in sample cell after n injections\n",
        "    # (M)\n",
        "    Ln = torch.zeros([N])\n",
        "    # PLn[n] is the complex concentration in sample cell after n injections\n",
        "    # (M)\n",
        "    PLn = torch.zeros([N])\n",
        "\n",
        "    dcum = 1.0  # cumulative dilution factor (dimensionless)\n",
        "    for n in range(N):\n",
        "        # Instantaneous injection model (perfusion)\n",
        "        # dilution factor for this injection (dimensionless)\n",
        "        d = 1.0 - (DeltaVn[n] / V0)\n",
        "        dcum *= d  # cumulative dilution factor\n",
        "        # total quantity of protein in sample cell after n injections (mol)\n",
        "        P = V0 * P0 * 1.e-3 * dcum\n",
        "        # total quantity of ligand in sample cell after n injections (mol)\n",
        "        L = V0 * Ls * 1.e-3 * (1. - dcum)\n",
        "        \n",
        "        # complex concentration (M)\n",
        "        PLn[n] = (0.5 / V0 * ((P + L + Kd * V0) - torch.sqrt((P + L + Kd * V0) ** 2 - 4 * P * L) ))\n",
        "\n",
        "        # free protein concentration in sample cell after n injections (M)\n",
        "        Pn[n] = P / V0 - PLn[n]\n",
        "\n",
        "        # free ligand concentration in sample cell after n injections (M)\n",
        "        Ln[n] = L / V0 - PLn[n]\n",
        "\n",
        "    # Compute expected injection heats.\n",
        "    # q_n_model[n] is the expected heat from injection n\n",
        "    q_n = torch.zeros([N])\n",
        "    # Instantaneous injection model (perfusion)\n",
        "    # first injection\n",
        "    q_n[0] = (DeltaH * V0 * PLn[0])*1000. + DeltaH_0\n",
        "\n",
        "    for n in range(1, N):\n",
        "        d = 1.0 - (DeltaVn[n] / V0)  # dilution factor (dimensionless)\n",
        "        # subsequent injections\n",
        "        q_n[n] = (DeltaH * V0 * (PLn[n] - d * PLn[n - 1])) * 1000. + DeltaH_0\n",
        "\n",
        "    return q_n\n",
        "\n",
        "def logsigma_guesses(q_n_cal):\n",
        "    log_sigma_guess = np.log(q_n_cal[-4:].std())\n",
        "    log_sigma_min = log_sigma_guess - 10\n",
        "    log_sigma_max = log_sigma_guess + 5\n",
        "    return log_sigma_min, log_sigma_max\n",
        "\n",
        "def deltaH0_guesses(q_n_cal):\n",
        "    heat_interval = (q_n_cal.max() - q_n_cal.min())\n",
        "    DeltaH_0_min = q_n_cal.min() - heat_interval\n",
        "    DeltaH_0_max = q_n_cal.max() + heat_interval\n",
        "    return DeltaH_0_min, DeltaH_0_max\n",
        "\n",
        "def lognormal_prior(name, stated_value, uncertainty):\n",
        "    \"\"\"\n",
        "    :param name: str\n",
        "    :param stated_value: float\n",
        "    :uncertainty: float\n",
        "    :rerurn: pyro.Lognormal\n",
        "    \"\"\"\n",
        "    m = torch.as_tensor(stated_value)\n",
        "    v = torch.as_tensor(uncertainty ** 2) \n",
        "    mu = torch.log(m / torch.sqrt(1 + (v / (m ** 2))))\n",
        "    tau = torch.sqrt(torch.log(1 + (v / (m ** 2))))\n",
        "    return pyro.sample(name, pyro.distributions.LogNormal(loc=mu, scale=tau))\n",
        "\n",
        "def uniform_prior(name, lower, upper):\n",
        "    \"\"\"\n",
        "    :param name: str\n",
        "    :param lower: float\n",
        "    :param upper: float\n",
        "    :return: pyro.Uniform\n",
        "    \"\"\"\n",
        "    return pyro.sample(name, pyro.distributions.Uniform(low=lower, high=upper))\n",
        "\n",
        "def param(injection_volumes, cell_concentration, syringe_concentration,\n",
        "          cell_volume, temperature, dcell, dsyringe,\n",
        "          uniform_P0=False, P0_min=None, P0_max=None, \n",
        "          uniform_Ls=False, Ls_min=None, Ls_max=None):\n",
        "    \"\"\"\n",
        "    :param cell_concentration: concentration of the sample cell in milli molar, float\n",
        "    :param syringe_concentration: concentration of the syringe in milli molar, float\n",
        "    :param cell_volume: volume of sample cell in liter, float #check the instrutment \n",
        "    :param temperature: temprature in kelvin, float\n",
        "    :param dcell: relative uncertainty in cell concentration, float\n",
        "    :param dsyringe: relative uncertainty in syringe concentration, float\n",
        "    :param uniform_P0: if True, use uniform prior for cell concentration, bool\n",
        "    :param P0_min: only use if uniform_P0 is True, float\n",
        "    :param P0_max: only use if uniform_P0 is True, float\n",
        "    :param uniform_Ls: if True, use uniform prior for syringe concentration, bool\n",
        "    :param Ls_min: only use if uniform_Ls is True, float\n",
        "    :param Ls_max: only use if uniform_Ls is True, float\n",
        "\n",
        "    :return: priors for P0, Ls, DeltaG, DeltaH, DeltaH_0, log_sigma\n",
        "    \"\"\"\n",
        "    if uniform_P0 and (P0_min is None or P0_max is None):\n",
        "        raise ValueError(\"If uniform_P0 is True, both P0_min and P0_max must be provided\")\n",
        "    \n",
        "    if uniform_Ls and (Ls_min is None or Ls_max is None):\n",
        "        raise ValueError(\"If uniform_Ls is True, both Ls_min and Ls_max must be provided\")\n",
        "\n",
        "    DeltaH_0_min, DeltaH_0_max = deltaH0_guesses(q_actual_cal)\n",
        "    log_sigma_min, log_sigma_max = logsigma_guesses(q_actual_cal)\n",
        "\n",
        "    stated_P0 = cell_concentration\n",
        "    uncertainty_P0 = dcell * stated_P0\n",
        "\n",
        "    stated_Ls = syringe_concentration\n",
        "    uncertainty_Ls = dsyringe * stated_Ls\n",
        "    \n",
        "    # prior for receptor concentration\n",
        "    if uniform_P0:\n",
        "        P0 = uniform_prior(\"P0\", lower=P0_min, upper=P0_max)\n",
        "    else:\n",
        "        P0 = lognormal_prior(\"P0\", stated_value=stated_P0, uncertainty=uncertainty_P0)\n",
        "\n",
        "    # prior for ligand concentration\n",
        "    if uniform_Ls:\n",
        "        Ls = uniform_prior(\"Ls\", lower=Ls_min, upper=Ls_max)\n",
        "    else:\n",
        "        Ls = lognormal_prior(\"Ls\", stated_value=stated_Ls, uncertainty=uncertainty_Ls)\n",
        "  \n",
        "    # priors for DeltaG, DeltaH, DeltaH_0, log_sigma\n",
        "    DeltaG = uniform_prior(\"DeltaG\", lower=-40., upper=4.)\n",
        "    DeltaH = uniform_prior(\"DeltaH\", lower=-100., upper=100.)\n",
        "    DeltaH_0 = uniform_prior(\"DeltaH_0\", lower=DeltaH_0_min, upper=DeltaH_0_max)\n",
        "    log_sigma = uniform_prior(\"log_sigma\", lower=log_sigma_min, upper=log_sigma_max)\n",
        "\n",
        "    return P0, Ls, DeltaG, DeltaH, DeltaH_0, log_sigma\n",
        "\n",
        "def make_TwoComponentBindingModel(q_actual_cal, \n",
        "                                  injection_volumes, \n",
        "                                  cell_concentration, \n",
        "                                  syringe_concentration,\n",
        "                                  cell_volume=0.001434,\n",
        "                                  temperature=298.15,\n",
        "                                  dcell=0.1, dsyringe=0.1,\n",
        "                                  uniform_P0=False, P0_min=None, P0_max=None, \n",
        "                                  uniform_Ls=False, Ls_min=None, Ls_max=None):\n",
        "  \n",
        "    \"\"\"\n",
        "    to create a model\n",
        "    :param q_actual_cal: observed heats in calorie, array-like\n",
        "    :param injection_volumes: injection volumes in liter, array-like\n",
        "    :param cell_concentration: concentration of the sample cell in milli molar, float\n",
        "    :param syringe_concentration: concentration of the syringe in milli molar, float\n",
        "    :param cell_volume: volume of sample cell in liter, float #check the instrutment \n",
        "    :param temperature: temprature in kelvin, float\n",
        "    :param dcell: relative uncertainty in cell concentration, float\n",
        "    :param dsyringe: relative uncertainty in syringe concentration, float\n",
        "    :param uniform_P0: if True, use uniform prior for cell concentration, bool\n",
        "    :param P0_min: only use if uniform_P0 is True, float\n",
        "    :param P0_max: only use if uniform_P0 is True, float\n",
        "    :param uniform_Ls: if True, use uniform prior for syringe concentration, bool\n",
        "    :param Ls_min: only use if uniform_Ls is True, float\n",
        "    :param Ls_max: only use if uniform_Ls is True, float\n",
        "    \n",
        "    :return: an instance of pyro.model\n",
        "    \"\"\"\n",
        "    assert len(q_actual_cal) == len(injection_volumes), \"q_actual_cal and injection_volumes must have the same len.\"\n",
        "          \n",
        "    V0 = cell_volume\n",
        "    DeltaVn = injection_volumes\n",
        "    beta = 1 / KB / temperature\n",
        "    n_injections = len(q_actual_cal)\n",
        "    \n",
        "    P0, Ls, DeltaG, DeltaH, DeltaH_0, log_sigma = param(injection_volumes, cell_concentration, syringe_concentration, \n",
        "                                                        cell_volume, temperature, dcell, dsyringe,\n",
        "                                                        uniform_P0, P0_min, P0_max,\n",
        "                                                        uniform_Ls, Ls_min, Ls_max)\n",
        "\n",
        "    sigma_cal = torch.exp(log_sigma)\n",
        "    q_model_cal = heats_TwoComponentBindingModel(V0, DeltaVn, P0, Ls, DeltaG, DeltaH, DeltaH_0, beta, n_injections)\n",
        "    \n",
        "    pyro.sample('q_obs', pyro.distributions.Normal(loc=q_model_cal, scale=sigma_cal), obs=q_actual_cal)\n",
        "    return P0, Ls, DeltaG, DeltaH, DeltaH_0, log_sigma"
      ],
      "execution_count": null,
      "outputs": []
    },
    {
      "cell_type": "code",
      "metadata": {
        "id": "1TaXCV5141yx"
      },
      "source": [
        "nuts_kernel = NUTS(make_TwoComponentBindingModel)\n",
        "mcmc = MCMC(nuts_kernel, warmup_steps=2000, num_samples=10000, num_chains=4)\n",
        "mcmc.run(q_actual_cal, injection_volumes, CELL_CONCENTR, SYRINGE_CONCENTR)\n",
        "mcmc.summary()"
      ],
      "execution_count": null,
      "outputs": []
    },
    {
      "cell_type": "code",
      "metadata": {
        "id": "DKbeW_hS41y2"
      },
      "source": [
        "trace = mcmc.get_samples(group_by_chain=True)\n",
        "data = az.convert_to_inference_data(trace)\n",
        "az.plot_trace(data)\n",
        "plt.savefig(os.path.join(OUT_DIR, \"pyro_trace.pdf\"))"
      ],
      "execution_count": null,
      "outputs": []
    },
    {
      "cell_type": "code",
      "metadata": {
        "id": "amMIoHLbdIhR"
      },
      "source": [
        "pickle.dump(make_TwoComponentBindingModel, open(os.path.join(OUT_DIR, \"pyro.pickle\"), \"wb\"))\r\n",
        "pickle.dump(trace, open(os.path.join(OUT_DIR, \"pyro_trace.pickle\"), \"wb\"))"
      ],
      "execution_count": null,
      "outputs": []
    }
  ]
}